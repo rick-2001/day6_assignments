{
 "cells": [
  {
   "cell_type": "code",
   "execution_count": 3,
   "metadata": {},
   "outputs": [
    {
     "name": "stdout",
     "output_type": "stream",
     "text": [
      "Collecting smtp\n",
      "  Downloading smtp-0.1.0.tar.gz (2.7 kB)\n",
      "Building wheels for collected packages: smtp\n",
      "  Building wheel for smtp (setup.py) ... \u001b[?25ldone\n",
      "\u001b[?25h  Created wheel for smtp: filename=smtp-0.1.0-py3-none-any.whl size=1358 sha256=a265a3555b8867291c9559ad89af59c02819b49f65658635b0fba00e110c0e4e\n",
      "  Stored in directory: /home/fedrick/.cache/pip/wheels/0a/31/b1/698971eca1faec6529b2ba858ad8ab9804db636f0ae25328a4\n",
      "Successfully built smtp\n",
      "Installing collected packages: smtp\n",
      "Successfully installed smtp-0.1.0\n"
     ]
    }
   ],
   "source": [
    "!pip install smtp"
   ]
  },
  {
   "cell_type": "code",
   "execution_count": 10,
   "metadata": {},
   "outputs": [],
   "source": [
    "import smtplib \n"
   ]
  },
  {
   "cell_type": "code",
   "execution_count": 31,
   "metadata": {},
   "outputs": [],
   "source": [
    "s = smtplib.SMTP('smtp.gmail.com', 587) "
   ]
  },
  {
   "cell_type": "code",
   "execution_count": 32,
   "metadata": {},
   "outputs": [
    {
     "data": {
      "text/plain": [
       "(220, b'2.0.0 Ready to start TLS')"
      ]
     },
     "execution_count": 32,
     "metadata": {},
     "output_type": "execute_result"
    }
   ],
   "source": [
    "s.starttls() "
   ]
  },
  {
   "cell_type": "code",
   "execution_count": 33,
   "metadata": {},
   "outputs": [
    {
     "data": {
      "text/plain": [
       "(235, b'2.7.0 Accepted')"
      ]
     },
     "execution_count": 33,
     "metadata": {},
     "output_type": "execute_result"
    }
   ],
   "source": [
    "s.login(\"heyy05896@gmail.com\", \"heyyou1234\") "
   ]
  },
  {
   "cell_type": "code",
   "execution_count": 34,
   "metadata": {},
   "outputs": [],
   "source": [
    "message = \"hello letsupgrade ,you have a wonderful python course\""
   ]
  },
  {
   "cell_type": "code",
   "execution_count": 35,
   "metadata": {},
   "outputs": [
    {
     "data": {
      "text/plain": [
       "{}"
      ]
     },
     "execution_count": 35,
     "metadata": {},
     "output_type": "execute_result"
    }
   ],
   "source": [
    "s.sendmail(\"heyy05896@gmail.com\", \"nomak83986@febeks.com\", message)"
   ]
  },
  {
   "cell_type": "code",
   "execution_count": 36,
   "metadata": {},
   "outputs": [
    {
     "data": {
      "text/plain": [
       "(221, b'2.0.0 closing connection w200sm9374353pfc.14 - gsmtp')"
      ]
     },
     "execution_count": 36,
     "metadata": {},
     "output_type": "execute_result"
    }
   ],
   "source": [
    "s.quit()"
   ]
  },
  {
   "cell_type": "markdown",
   "metadata": {},
   "source": [
    "# sending emails all at once"
   ]
  },
  {
   "cell_type": "code",
   "execution_count": 37,
   "metadata": {},
   "outputs": [],
   "source": [
    "import smtplib \n",
    "  \n",
    "li = [\"xxxxx@gmail.com\", \"yyyyy@gmail.com\"] \n",
    "  \n",
    "for dest in li: \n",
    "    s = smtplib.SMTP('smtp.gmail.com', 587) \n",
    "    s.starttls() \n",
    "    s.login(\"heyy05896@gmail.com\", \"heyyou1234\") \n",
    "    message = \"hello students,tommorrow exam will be postpone\"\n",
    "    s.sendmail(\"heyy05896@gmail.com\", dest, message) \n",
    "    s.quit() "
   ]
  },
  {
   "cell_type": "code",
   "execution_count": 39,
   "metadata": {},
   "outputs": [],
   "source": [
    "#so this emails thing its working but i will delete it now"
   ]
  },
  {
   "cell_type": "code",
   "execution_count": null,
   "metadata": {},
   "outputs": [],
   "source": []
  }
 ],
 "metadata": {
  "kernelspec": {
   "display_name": "Python 3",
   "language": "python",
   "name": "python3"
  },
  "language_info": {
   "codemirror_mode": {
    "name": "ipython",
    "version": 3
   },
   "file_extension": ".py",
   "mimetype": "text/x-python",
   "name": "python",
   "nbconvert_exporter": "python",
   "pygments_lexer": "ipython3",
   "version": "3.8.5"
  }
 },
 "nbformat": 4,
 "nbformat_minor": 4
}
